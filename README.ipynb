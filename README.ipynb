{
 "cells": [
  {
   "cell_type": "markdown",
   "metadata": {},
   "source": [
    "# ConcatFramesNumpy - Classe para Concatenar Frames de Vídeo\n",
    "\n",
    "Esta classe Python, `ConcatFramesNumpy`, oferece funcionalidades para manipular e concatenar frames de vídeo, bem como salvar ou converter sequências de frames em vídeo. Ela é particularmente útil quando se trabalha com processamento de imagens ou vídeos em Python.\n",
    "\n",
    "## Funções da Classe\n",
    "\n",
    "### `read_frame` (Propriedade)\n",
    "\n",
    "**Descrição**: Esta propriedade permite ler frames de um diretório especificado. Ela verifica se a entrada `_read_frames` é uma string que representa um diretório e lê os frames presentes nesse diretório.\n",
    "\n",
    "### `output_folder` (Propriedade)\n",
    "\n",
    "**Descrição**: Esta propriedade permite definir o diretório de saída onde os frames ou vídeos serão salvos.\n",
    "\n",
    "### `concat_frames(self, frames, concat_num)`\n",
    "\n",
    "**Descrição**: Esta função recebe uma lista de frames e concatena-os em grupos de `concat_num`. Os frames são concatenados verticalmente.\n",
    "\n",
    "### `convert_vid(self, frames, fps=30)`\n",
    "\n",
    "**Descrição**: Esta função converte uma lista de frames em um objeto ImageSequenceClip (do módulo MoviePy) para facilitar a criação de vídeos a partir dos frames.\n",
    "\n",
    "### `save(self, file, video_name=\"video\")`\n",
    "\n",
    "**Descrição**: Esta função permite salvar frames ou vídeos no diretório de saída especificado. Ela aceita uma lista de frames ou um objeto ImageSequenceClip (do módulo MoviePy) como entrada.\n",
    "\n",
    "- Se a entrada for uma lista de frames (numpy ndarrays), os frames serão salvos como imagens JPEG no diretório de saída com nomes no formato 'frame_xxxx.jpg', onde 'xxxx' é o número do frame.\n",
    "- Se a entrada for um objeto ImageSequenceClip, o vídeo será criado e salvo no formato MP4 no diretório de saída com o nome especificado em `video_name`.\n"
   ]
  }
 ],
 "metadata": {
  "language_info": {
   "name": "python"
  },
  "orig_nbformat": 4
 },
 "nbformat": 4,
 "nbformat_minor": 2
}
