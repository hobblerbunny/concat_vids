{
 "cells": [
  {
   "cell_type": "code",
   "execution_count": null,
   "metadata": {},
   "outputs": [],
   "source": [
    "from concat import ConcatFramesNumpy\n",
    "video_maker = ConcatFramesNumpy"
   ]
  },
  {
   "cell_type": "code",
   "execution_count": null,
   "metadata": {},
   "outputs": [],
   "source": [
    "video_maker = ConcatFramesNumpy()\n",
    "video_maker.output_folder = \"video_pelotas_2023-01-11_04\"\n",
    "video_maker.read_frame = \"D:/Judson_projetos/frame_save_pelotas/projeto_pelotas/projeto_pelotas_2023-01-11_04/vid_2\"\n",
    "frames = video_maker.read_frame\n",
    "frames = video_maker.matrix_color(frames, \"BGR>RGB\")\n",
    "video = video_maker.convert_vid(frames, fps=5)\n",
    "video_maker.save(video, \"vid_2\")"
   ]
  }
 ],
 "metadata": {
  "kernelspec": {
   "display_name": "concat-numpy-xDppF6Kf-py3.11",
   "language": "python",
   "name": "python3"
  },
  "language_info": {
   "codemirror_mode": {
    "name": "ipython",
    "version": 3
   },
   "file_extension": ".py",
   "mimetype": "text/x-python",
   "name": "python",
   "nbconvert_exporter": "python",
   "pygments_lexer": "ipython3",
   "version": "3.10.4"
  },
  "orig_nbformat": 4
 },
 "nbformat": 4,
 "nbformat_minor": 2
}
