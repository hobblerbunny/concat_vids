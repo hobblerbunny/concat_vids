{
 "cells": [
  {
   "cell_type": "code",
   "execution_count": 1,
   "metadata": {},
   "outputs": [],
   "source": [
    "from concat import ConcatFramesNumpy\n",
    "video_maker = ConcatFramesNumpy"
   ]
  },
  {
   "cell_type": "code",
   "execution_count": 4,
   "metadata": {},
   "outputs": [
    {
     "ename": "KeyboardInterrupt",
     "evalue": "",
     "output_type": "error",
     "traceback": [
      "\u001b[1;31m---------------------------------------------------------------------------\u001b[0m",
      "\u001b[1;31mKeyboardInterrupt\u001b[0m                         Traceback (most recent call last)",
      "\u001b[1;32md:\\Judson_projetos\\frame_save_pelotas\\frame_concat\\concat_vids\\concat_numpy\\concat_numpy\\tests.ipynb Cell 2\u001b[0m line \u001b[0;36m4\n\u001b[0;32m      <a href='vscode-notebook-cell:/d%3A/Judson_projetos/frame_save_pelotas/frame_concat/concat_vids/concat_numpy/concat_numpy/tests.ipynb#W1sZmlsZQ%3D%3D?line=1'>2</a>\u001b[0m video_maker\u001b[39m.\u001b[39moutput_folder \u001b[39m=\u001b[39m \u001b[39m\"\u001b[39m\u001b[39mvideo_pelotas_2023-01-11_04\u001b[39m\u001b[39m\"\u001b[39m\n\u001b[0;32m      <a href='vscode-notebook-cell:/d%3A/Judson_projetos/frame_save_pelotas/frame_concat/concat_vids/concat_numpy/concat_numpy/tests.ipynb#W1sZmlsZQ%3D%3D?line=2'>3</a>\u001b[0m video_maker\u001b[39m.\u001b[39mread_frame \u001b[39m=\u001b[39m \u001b[39m\"\u001b[39m\u001b[39mD:/Judson_projetos/frame_save_pelotas/projeto_pelotas/projeto_pelotas_2023-01-11_04/vid_2\u001b[39m\u001b[39m\"\u001b[39m\n\u001b[1;32m----> <a href='vscode-notebook-cell:/d%3A/Judson_projetos/frame_save_pelotas/frame_concat/concat_vids/concat_numpy/concat_numpy/tests.ipynb#W1sZmlsZQ%3D%3D?line=3'>4</a>\u001b[0m frames \u001b[39m=\u001b[39m video_maker\u001b[39m.\u001b[39;49mread_frame\n\u001b[0;32m      <a href='vscode-notebook-cell:/d%3A/Judson_projetos/frame_save_pelotas/frame_concat/concat_vids/concat_numpy/concat_numpy/tests.ipynb#W1sZmlsZQ%3D%3D?line=4'>5</a>\u001b[0m frames \u001b[39m=\u001b[39m video_maker\u001b[39m.\u001b[39mmatrix_color(frames, \u001b[39m\"\u001b[39m\u001b[39mBGR>RGB\u001b[39m\u001b[39m\"\u001b[39m)\n\u001b[0;32m      <a href='vscode-notebook-cell:/d%3A/Judson_projetos/frame_save_pelotas/frame_concat/concat_vids/concat_numpy/concat_numpy/tests.ipynb#W1sZmlsZQ%3D%3D?line=5'>6</a>\u001b[0m video \u001b[39m=\u001b[39m video_maker\u001b[39m.\u001b[39mconvert_vid(frames, fps\u001b[39m=\u001b[39m\u001b[39m5\u001b[39m)\n",
      "File \u001b[1;32md:\\Judson_projetos\\frame_save_pelotas\\frame_concat\\concat_vids\\concat_numpy\\concat_numpy\\concat.py:21\u001b[0m, in \u001b[0;36mConcatFramesNumpy.read_frame\u001b[1;34m(self)\u001b[0m\n\u001b[0;32m     19\u001b[0m     frames_list \u001b[39m=\u001b[39m []\n\u001b[0;32m     20\u001b[0m     \u001b[39mfor\u001b[39;00m file \u001b[39min\u001b[39;00m files:\n\u001b[1;32m---> 21\u001b[0m         img \u001b[39m=\u001b[39m cv2\u001b[39m.\u001b[39;49mimread(os\u001b[39m.\u001b[39;49mpath\u001b[39m.\u001b[39;49mjoin(\u001b[39mself\u001b[39;49m\u001b[39m.\u001b[39;49m_read_frames, file))\n\u001b[0;32m     22\u001b[0m         frames_list\u001b[39m.\u001b[39mappend(img)\n\u001b[0;32m     24\u001b[0m \u001b[39melse\u001b[39;00m:\n",
      "\u001b[1;31mKeyboardInterrupt\u001b[0m: "
     ]
    },
    {
     "name": "stderr",
     "output_type": "stream",
     "text": [
      "t:  10%|█         | 143/1377 [00:20<01:03, 19.58it/s, now=None]"
     ]
    }
   ],
   "source": [
    "video_maker = ConcatFramesNumpy()\n",
    "video_maker.output_folder = \"video_pelotas_2023-01-11_04\"\n",
    "video_maker.read_frame = \"D:/Judson_projetos/frame_save_pelotas/projeto_pelotas/projeto_pelotas_2023-01-11_04/vid_2\"\n",
    "frames = video_maker.read_frame\n",
    "frames = video_maker.matrix_color(frames, \"BGR>RGB\")\n",
    "video = video_maker.convert_vid(frames, fps=5)\n",
    "video_maker.save(video, \"vid_2\")"
   ]
  }
 ],
 "metadata": {
  "kernelspec": {
   "display_name": "concat-numpy-xDppF6Kf-py3.11",
   "language": "python",
   "name": "python3"
  },
  "language_info": {
   "codemirror_mode": {
    "name": "ipython",
    "version": 3
   },
   "file_extension": ".py",
   "mimetype": "text/x-python",
   "name": "python",
   "nbconvert_exporter": "python",
   "pygments_lexer": "ipython3",
   "version": "3.10.4"
  },
  "orig_nbformat": 4
 },
 "nbformat": 4,
 "nbformat_minor": 2
}
