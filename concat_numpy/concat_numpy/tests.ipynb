{
 "cells": [
  {
   "cell_type": "code",
   "execution_count": 1,
   "metadata": {},
   "outputs": [],
   "source": [
    "from concat import ConcatFramesNumpy\n",
    "video_maker = ConcatFramesNumpy\n",
    "video_maker.output_folder = \"new_folder\""
   ]
  },
  {
   "cell_type": "code",
   "execution_count": 3,
   "metadata": {},
   "outputs": [
    {
     "name": "stdout",
     "output_type": "stream",
     "text": [
      "Moviepy - Building video test_name_2/video.mp4.\n",
      "Moviepy - Writing video test_name_2/video.mp4\n",
      "\n"
     ]
    },
    {
     "name": "stderr",
     "output_type": "stream",
     "text": [
      "                                                              \r"
     ]
    },
    {
     "name": "stdout",
     "output_type": "stream",
     "text": [
      "Moviepy - Done !\n",
      "Moviepy - video ready test_name_2/video.mp4\n"
     ]
    }
   ],
   "source": [
    "video_maker = ConcatFramesNumpy()\n",
    "video_maker.output_folder = \"test_name_2\"\n",
    "video_maker.read_frame = \"../sliced_in_half\"\n",
    "frames = video_maker.read_frame\n",
    "concatenate = video_maker.concat_frames(frames, 2)\n",
    "video = video_maker.convert_vid(concatenate, fps=24)\n",
    "video_maker.save(video)"
   ]
  }
 ],
 "metadata": {
  "kernelspec": {
   "display_name": "concat-numpy-xDppF6Kf-py3.11",
   "language": "python",
   "name": "python3"
  },
  "language_info": {
   "codemirror_mode": {
    "name": "ipython",
    "version": 3
   },
   "file_extension": ".py",
   "mimetype": "text/x-python",
   "name": "python",
   "nbconvert_exporter": "python",
   "pygments_lexer": "ipython3",
   "version": "3.11.3"
  },
  "orig_nbformat": 4
 },
 "nbformat": 4,
 "nbformat_minor": 2
}
